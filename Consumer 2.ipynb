{
 "cells": [
  {
   "cell_type": "code",
   "execution_count": null,
   "id": "65d18daa",
   "metadata": {},
   "outputs": [],
   "source": [
    "from kafka import KafkaConsumer\n",
    "import pandas as pd\n",
    "\n",
    "consumer = KafkaConsumer('cyan3', bootstrap_servers=['localhost:9092'])\n",
    "\n",
    "ticker_symbol = 'AAPL'\n",
    "window = 20\n",
    "threshold = 2.0\n",
    "\n",
    "prices = pd.DataFrame(columns=['Close'])\n",
    "retested_upper_band = False\n",
    "\n",
    "for message in consumer:\n",
    "    data = message.value.decode('utf-8').split(',')\n",
    "    close_price = float(data[3])\n",
    "    prices = prices.append({'Close': close_price}, ignore_index=True)\n",
    "\n",
    "    if len(prices) < window:\n",
    "        continue\n",
    "\n",
    "    # Calculate the rolling mean and standard deviation\n",
    "    rolling_mean = prices['Close'].rolling(window).mean()\n",
    "    rolling_std = prices['Close'].rolling(window).std()\n",
    "\n",
    "    # Calculate the upper and lower Bollinger Bands\n",
    "    upper_band = rolling_mean + threshold * rolling_std\n",
    "    lower_band = rolling_mean - threshold * rolling_std\n",
    "\n",
    "    # Generate insights based on the current price relative to the Bollinger Bands\n",
    "    if close_price > upper_band.iloc[-1]:\n",
    "        if not retested_upper_band:\n",
    "            retested_upper_band = True\n",
    "        else:\n",
    "            print(f\"{ticker_symbol} has retested the upper Bollinger Band and is expected to go down from {close_price}\")\n",
    "    elif close_price < lower_band.iloc[-1]:\n",
    "        retested_upper_band = False\n",
    "        print(f\"{ticker_symbol} is oversold with a price of {close_price}\")"
   ]
  }
 ],
 "metadata": {
  "kernelspec": {
   "display_name": "Python 3 (ipykernel)",
   "language": "python",
   "name": "python3"
  },
  "language_info": {
   "codemirror_mode": {
    "name": "ipython",
    "version": 3
   },
   "file_extension": ".py",
   "mimetype": "text/x-python",
   "name": "python",
   "nbconvert_exporter": "python",
   "pygments_lexer": "ipython3",
   "version": "3.10.9"
  }
 },
 "nbformat": 4,
 "nbformat_minor": 5
}
